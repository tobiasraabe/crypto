{
 "cells": [
  {
   "cell_type": "code",
   "execution_count": 12,
   "metadata": {
    "ExecuteTime": {
     "end_time": "2017-03-10T14:08:34.278547",
     "start_time": "2017-03-10T14:08:32.438493"
    },
    "collapsed": true
   },
   "outputs": [],
   "source": [
    "import pandas as pd\n",
    "from sklearn.externals import joblib\n",
    "import gzip\n",
    "import pickle\n",
    "\n",
    "# Load dataset\n",
    "ts_chart = pd.read_pickle('../../bld/out/data_processed/BTC_POT_chart_data.p')\n",
    "ts_trade = pd.read_pickle('../../bld/out/data_processed/BTC_POT_trade_history.p')\n",
    "\n",
    "# Change column names\n",
    "ts_chart.columns = map(str.upper, ts_chart.columns)\n",
    "ts_chart['CHART'] = True\n",
    "\n",
    "ts_trade.columns = map(str.upper, ts_trade.columns)\n",
    "ts_trade['TRADE'] = True\n",
    "\n",
    "# Merge datasets\n",
    "ts = ts_chart.join(ts_trade, how='outer')\n",
    "\n",
    "# Fill NaNs\n",
    "ts.CHART.fillna(False, inplace=True)\n",
    "ts.TRADE.fillna(False, inplace=True)"
   ]
  },
  {
   "cell_type": "code",
   "execution_count": 2,
   "metadata": {
    "ExecuteTime": {
     "end_time": "2017-03-10T13:48:31.269370",
     "start_time": "2017-03-10T13:48:31.208500"
    },
    "collapsed": false
   },
   "outputs": [
    {
     "data": {
      "text/html": [
       "<div>\n",
       "<table border=\"1\" class=\"dataframe\">\n",
       "  <thead>\n",
       "    <tr style=\"text-align: right;\">\n",
       "      <th></th>\n",
       "      <th>BTC_POT_CLOSE</th>\n",
       "      <th>BTC_POT_HIGH_LAG_1</th>\n",
       "      <th>BTC_POT_LOW_LAG_1</th>\n",
       "      <th>BTC_POT_OPEN_LAG_1</th>\n",
       "      <th>BTC_POT_QUOTEVOLUME_LAG_1</th>\n",
       "      <th>BTC_POT_VOLUME_LAG_1</th>\n",
       "      <th>BTC_POT_WEIGHTEDAVERAGE_LAG_1</th>\n",
       "      <th>BTC_POT_HIGH_LAG_2</th>\n",
       "      <th>BTC_POT_LOW_LAG_2</th>\n",
       "      <th>BTC_POT_OPEN_LAG_2</th>\n",
       "      <th>...</th>\n",
       "      <th>BTC_POT_OPEN_LAG_20</th>\n",
       "      <th>BTC_POT_QUOTEVOLUME_LAG_20</th>\n",
       "      <th>BTC_POT_VOLUME_LAG_20</th>\n",
       "      <th>BTC_POT_WEIGHTEDAVERAGE_LAG_20</th>\n",
       "      <th>CHART</th>\n",
       "      <th>BTC_POT_AMOUNT</th>\n",
       "      <th>BTC_POT_RATE</th>\n",
       "      <th>BTC_POT_TOTAL</th>\n",
       "      <th>BTC_POT_TYPE</th>\n",
       "      <th>TRADE</th>\n",
       "    </tr>\n",
       "    <tr>\n",
       "      <th>date</th>\n",
       "      <th></th>\n",
       "      <th></th>\n",
       "      <th></th>\n",
       "      <th></th>\n",
       "      <th></th>\n",
       "      <th></th>\n",
       "      <th></th>\n",
       "      <th></th>\n",
       "      <th></th>\n",
       "      <th></th>\n",
       "      <th></th>\n",
       "      <th></th>\n",
       "      <th></th>\n",
       "      <th></th>\n",
       "      <th></th>\n",
       "      <th></th>\n",
       "      <th></th>\n",
       "      <th></th>\n",
       "      <th></th>\n",
       "      <th></th>\n",
       "      <th></th>\n",
       "    </tr>\n",
       "  </thead>\n",
       "  <tbody>\n",
       "    <tr>\n",
       "      <th>2014-07-14 23:01:56</th>\n",
       "      <td>NaN</td>\n",
       "      <td>NaN</td>\n",
       "      <td>NaN</td>\n",
       "      <td>NaN</td>\n",
       "      <td>NaN</td>\n",
       "      <td>NaN</td>\n",
       "      <td>NaN</td>\n",
       "      <td>NaN</td>\n",
       "      <td>NaN</td>\n",
       "      <td>NaN</td>\n",
       "      <td>...</td>\n",
       "      <td>NaN</td>\n",
       "      <td>NaN</td>\n",
       "      <td>NaN</td>\n",
       "      <td>NaN</td>\n",
       "      <td>False</td>\n",
       "      <td>200.0</td>\n",
       "      <td>0.000017</td>\n",
       "      <td>0.003366</td>\n",
       "      <td>buy</td>\n",
       "      <td>True</td>\n",
       "    </tr>\n",
       "    <tr>\n",
       "      <th>2014-07-14 23:03:09</th>\n",
       "      <td>NaN</td>\n",
       "      <td>NaN</td>\n",
       "      <td>NaN</td>\n",
       "      <td>NaN</td>\n",
       "      <td>NaN</td>\n",
       "      <td>NaN</td>\n",
       "      <td>NaN</td>\n",
       "      <td>NaN</td>\n",
       "      <td>NaN</td>\n",
       "      <td>NaN</td>\n",
       "      <td>...</td>\n",
       "      <td>NaN</td>\n",
       "      <td>NaN</td>\n",
       "      <td>NaN</td>\n",
       "      <td>NaN</td>\n",
       "      <td>False</td>\n",
       "      <td>200.0</td>\n",
       "      <td>0.000017</td>\n",
       "      <td>0.003368</td>\n",
       "      <td>buy</td>\n",
       "      <td>True</td>\n",
       "    </tr>\n",
       "    <tr>\n",
       "      <th>2014-07-14 23:03:21</th>\n",
       "      <td>NaN</td>\n",
       "      <td>NaN</td>\n",
       "      <td>NaN</td>\n",
       "      <td>NaN</td>\n",
       "      <td>NaN</td>\n",
       "      <td>NaN</td>\n",
       "      <td>NaN</td>\n",
       "      <td>NaN</td>\n",
       "      <td>NaN</td>\n",
       "      <td>NaN</td>\n",
       "      <td>...</td>\n",
       "      <td>NaN</td>\n",
       "      <td>NaN</td>\n",
       "      <td>NaN</td>\n",
       "      <td>NaN</td>\n",
       "      <td>False</td>\n",
       "      <td>100.0</td>\n",
       "      <td>0.000017</td>\n",
       "      <td>0.001685</td>\n",
       "      <td>buy</td>\n",
       "      <td>True</td>\n",
       "    </tr>\n",
       "    <tr>\n",
       "      <th>2014-07-14 23:08:20</th>\n",
       "      <td>NaN</td>\n",
       "      <td>NaN</td>\n",
       "      <td>NaN</td>\n",
       "      <td>NaN</td>\n",
       "      <td>NaN</td>\n",
       "      <td>NaN</td>\n",
       "      <td>NaN</td>\n",
       "      <td>NaN</td>\n",
       "      <td>NaN</td>\n",
       "      <td>NaN</td>\n",
       "      <td>...</td>\n",
       "      <td>NaN</td>\n",
       "      <td>NaN</td>\n",
       "      <td>NaN</td>\n",
       "      <td>NaN</td>\n",
       "      <td>False</td>\n",
       "      <td>200.0</td>\n",
       "      <td>0.000017</td>\n",
       "      <td>0.003380</td>\n",
       "      <td>buy</td>\n",
       "      <td>True</td>\n",
       "    </tr>\n",
       "    <tr>\n",
       "      <th>2014-07-14 23:08:20</th>\n",
       "      <td>NaN</td>\n",
       "      <td>NaN</td>\n",
       "      <td>NaN</td>\n",
       "      <td>NaN</td>\n",
       "      <td>NaN</td>\n",
       "      <td>NaN</td>\n",
       "      <td>NaN</td>\n",
       "      <td>NaN</td>\n",
       "      <td>NaN</td>\n",
       "      <td>NaN</td>\n",
       "      <td>...</td>\n",
       "      <td>NaN</td>\n",
       "      <td>NaN</td>\n",
       "      <td>NaN</td>\n",
       "      <td>NaN</td>\n",
       "      <td>False</td>\n",
       "      <td>200.0</td>\n",
       "      <td>0.000017</td>\n",
       "      <td>0.003378</td>\n",
       "      <td>buy</td>\n",
       "      <td>True</td>\n",
       "    </tr>\n",
       "  </tbody>\n",
       "</table>\n",
       "<p>5 rows × 127 columns</p>\n",
       "</div>"
      ],
      "text/plain": [
       "                     BTC_POT_CLOSE  BTC_POT_HIGH_LAG_1  BTC_POT_LOW_LAG_1  \\\n",
       "date                                                                        \n",
       "2014-07-14 23:01:56            NaN                 NaN                NaN   \n",
       "2014-07-14 23:03:09            NaN                 NaN                NaN   \n",
       "2014-07-14 23:03:21            NaN                 NaN                NaN   \n",
       "2014-07-14 23:08:20            NaN                 NaN                NaN   \n",
       "2014-07-14 23:08:20            NaN                 NaN                NaN   \n",
       "\n",
       "                     BTC_POT_OPEN_LAG_1  BTC_POT_QUOTEVOLUME_LAG_1  \\\n",
       "date                                                                 \n",
       "2014-07-14 23:01:56                 NaN                        NaN   \n",
       "2014-07-14 23:03:09                 NaN                        NaN   \n",
       "2014-07-14 23:03:21                 NaN                        NaN   \n",
       "2014-07-14 23:08:20                 NaN                        NaN   \n",
       "2014-07-14 23:08:20                 NaN                        NaN   \n",
       "\n",
       "                     BTC_POT_VOLUME_LAG_1  BTC_POT_WEIGHTEDAVERAGE_LAG_1  \\\n",
       "date                                                                       \n",
       "2014-07-14 23:01:56                   NaN                            NaN   \n",
       "2014-07-14 23:03:09                   NaN                            NaN   \n",
       "2014-07-14 23:03:21                   NaN                            NaN   \n",
       "2014-07-14 23:08:20                   NaN                            NaN   \n",
       "2014-07-14 23:08:20                   NaN                            NaN   \n",
       "\n",
       "                     BTC_POT_HIGH_LAG_2  BTC_POT_LOW_LAG_2  \\\n",
       "date                                                         \n",
       "2014-07-14 23:01:56                 NaN                NaN   \n",
       "2014-07-14 23:03:09                 NaN                NaN   \n",
       "2014-07-14 23:03:21                 NaN                NaN   \n",
       "2014-07-14 23:08:20                 NaN                NaN   \n",
       "2014-07-14 23:08:20                 NaN                NaN   \n",
       "\n",
       "                     BTC_POT_OPEN_LAG_2  ...    BTC_POT_OPEN_LAG_20  \\\n",
       "date                                     ...                          \n",
       "2014-07-14 23:01:56                 NaN  ...                    NaN   \n",
       "2014-07-14 23:03:09                 NaN  ...                    NaN   \n",
       "2014-07-14 23:03:21                 NaN  ...                    NaN   \n",
       "2014-07-14 23:08:20                 NaN  ...                    NaN   \n",
       "2014-07-14 23:08:20                 NaN  ...                    NaN   \n",
       "\n",
       "                     BTC_POT_QUOTEVOLUME_LAG_20  BTC_POT_VOLUME_LAG_20  \\\n",
       "date                                                                     \n",
       "2014-07-14 23:01:56                         NaN                    NaN   \n",
       "2014-07-14 23:03:09                         NaN                    NaN   \n",
       "2014-07-14 23:03:21                         NaN                    NaN   \n",
       "2014-07-14 23:08:20                         NaN                    NaN   \n",
       "2014-07-14 23:08:20                         NaN                    NaN   \n",
       "\n",
       "                     BTC_POT_WEIGHTEDAVERAGE_LAG_20  CHART  BTC_POT_AMOUNT  \\\n",
       "date                                                                         \n",
       "2014-07-14 23:01:56                             NaN  False           200.0   \n",
       "2014-07-14 23:03:09                             NaN  False           200.0   \n",
       "2014-07-14 23:03:21                             NaN  False           100.0   \n",
       "2014-07-14 23:08:20                             NaN  False           200.0   \n",
       "2014-07-14 23:08:20                             NaN  False           200.0   \n",
       "\n",
       "                     BTC_POT_RATE  BTC_POT_TOTAL  BTC_POT_TYPE  TRADE  \n",
       "date                                                                   \n",
       "2014-07-14 23:01:56      0.000017       0.003366           buy   True  \n",
       "2014-07-14 23:03:09      0.000017       0.003368           buy   True  \n",
       "2014-07-14 23:03:21      0.000017       0.001685           buy   True  \n",
       "2014-07-14 23:08:20      0.000017       0.003380           buy   True  \n",
       "2014-07-14 23:08:20      0.000017       0.003378           buy   True  \n",
       "\n",
       "[5 rows x 127 columns]"
      ]
     },
     "execution_count": 2,
     "metadata": {},
     "output_type": "execute_result"
    }
   ],
   "source": [
    "ts.head()"
   ]
  },
  {
   "cell_type": "code",
   "execution_count": 4,
   "metadata": {
    "ExecuteTime": {
     "end_time": "2017-03-10T13:50:10.241176",
     "start_time": "2017-03-10T13:49:01.264309"
    },
    "collapsed": false
   },
   "outputs": [
    {
     "data": {
      "text/plain": [
       "['test.p.lzma']"
      ]
     },
     "execution_count": 4,
     "metadata": {},
     "output_type": "execute_result"
    }
   ],
   "source": [
    "joblib.dump(ts, filename='test.p.lzma', compress=('lzma', 3))"
   ]
  },
  {
   "cell_type": "code",
   "execution_count": 8,
   "metadata": {
    "ExecuteTime": {
     "end_time": "2017-03-10T13:56:22.256359",
     "start_time": "2017-03-10T13:55:15.444534"
    },
    "collapsed": false
   },
   "outputs": [
    {
     "data": {
      "text/plain": [
       "['test.p.xz']"
      ]
     },
     "execution_count": 8,
     "metadata": {},
     "output_type": "execute_result"
    }
   ],
   "source": [
    "joblib.dump(ts, filename='test.p.xz', compress=('xz', 3))"
   ]
  },
  {
   "cell_type": "code",
   "execution_count": 5,
   "metadata": {
    "ExecuteTime": {
     "end_time": "2017-03-10T13:50:27.297721",
     "start_time": "2017-03-10T13:50:10.243177"
    },
    "collapsed": false
   },
   "outputs": [
    {
     "data": {
      "text/plain": [
       "['test.p.gzip']"
      ]
     },
     "execution_count": 5,
     "metadata": {},
     "output_type": "execute_result"
    }
   ],
   "source": [
    "joblib.dump(ts, filename='test.p.gzip', compress=('gzip', 3))"
   ]
  },
  {
   "cell_type": "code",
   "execution_count": 6,
   "metadata": {
    "ExecuteTime": {
     "end_time": "2017-03-10T13:52:40.074288",
     "start_time": "2017-03-10T13:50:27.300723"
    },
    "collapsed": false
   },
   "outputs": [],
   "source": [
    "ts.to_csv('test.csv')"
   ]
  },
  {
   "cell_type": "code",
   "execution_count": 7,
   "metadata": {
    "ExecuteTime": {
     "end_time": "2017-03-10T13:55:15.442532",
     "start_time": "2017-03-10T13:52:40.077291"
    },
    "collapsed": true
   },
   "outputs": [],
   "source": [
    "ts.to_csv('test_compressed.csv.gz', compression='gzip')"
   ]
  },
  {
   "cell_type": "code",
   "execution_count": 9,
   "metadata": {
    "ExecuteTime": {
     "end_time": "2017-03-10T14:06:52.726691",
     "start_time": "2017-03-10T13:59:21.988524"
    },
    "collapsed": false
   },
   "outputs": [
    {
     "data": {
      "text/plain": [
       "['test.p.lzma']"
      ]
     },
     "execution_count": 9,
     "metadata": {},
     "output_type": "execute_result"
    }
   ],
   "source": [
    "joblib.dump(ts, filename='test.p.lzma', compress=('lzma', 9))"
   ]
  },
  {
   "cell_type": "code",
   "execution_count": 13,
   "metadata": {
    "ExecuteTime": {
     "end_time": "2017-03-10T14:10:06.655925",
     "start_time": "2017-03-10T14:08:35.847774"
    },
    "collapsed": false
   },
   "outputs": [],
   "source": [
    "with gzip.GzipFile('test.pgz', 'w') as f:\n",
    "    pickle.dump(ts, f)"
   ]
  },
  {
   "cell_type": "code",
   "execution_count": null,
   "metadata": {
    "collapsed": true
   },
   "outputs": [],
   "source": []
  }
 ],
 "metadata": {
  "anaconda-cloud": {},
  "kernelspec": {
   "display_name": "Python [conda env:crypto]",
   "language": "python",
   "name": "conda-env-crypto-py"
  },
  "language_info": {
   "codemirror_mode": {
    "name": "ipython",
    "version": 3
   },
   "file_extension": ".py",
   "mimetype": "text/x-python",
   "name": "python",
   "nbconvert_exporter": "python",
   "pygments_lexer": "ipython3",
   "version": "3.5.2"
  },
  "latex_envs": {
   "bibliofile": "biblio.bib",
   "cite_by": "apalike",
   "current_citInitial": 1,
   "eqLabelWithNumbers": true,
   "eqNumInitial": 0
  }
 },
 "nbformat": 4,
 "nbformat_minor": 1
}
