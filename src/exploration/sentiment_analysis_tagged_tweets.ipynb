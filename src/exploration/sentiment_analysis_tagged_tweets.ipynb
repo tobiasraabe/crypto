{
 "cells": [
  {
   "cell_type": "code",
   "execution_count": 1,
   "metadata": {
    "ExecuteTime": {
     "end_time": "2017-03-17T23:27:04.252402",
     "start_time": "2017-03-17T23:27:03.164080"
    },
    "collapsed": true
   },
   "outputs": [],
   "source": [
    "import pandas as pd\n",
    "import os\n",
    "from sklearn.externals import joblib\n",
    "from sklearn.feature_extraction.text import CountVectorizer\n",
    "from sklearn.feature_extraction.text import TfidfVectorizer\n",
    "from sklearn.decomposition import TruncatedSVD\n",
    "from sklearn.preprocessing import StandardScaler\n",
    "from sklearn.pipeline import Pipeline\n",
    "from sklearn.svm import SVC\n",
    "from sklearn.model_selection import RandomizedSearchCV\n",
    "from sklearn.model_selection import StratifiedKFold\n",
    "import numpy as np\n",
    "from time import time\n",
    "import matplotlib.pyplot as plt\n",
    "%matplotlib inline\n",
    "np.random.seed(123)"
   ]
  },
  {
   "cell_type": "code",
   "execution_count": 2,
   "metadata": {
    "ExecuteTime": {
     "end_time": "2017-03-17T23:27:04.261373",
     "start_time": "2017-03-17T23:27:04.255382"
    },
    "collapsed": true
   },
   "outputs": [],
   "source": [
    "PATH_PROCESSED_DATA = '../../bld/out/data_processed'"
   ]
  },
  {
   "cell_type": "code",
   "execution_count": 3,
   "metadata": {
    "ExecuteTime": {
     "end_time": "2017-03-17T23:27:18.983829",
     "start_time": "2017-03-17T23:27:04.282384"
    },
    "collapsed": true
   },
   "outputs": [],
   "source": [
    "df = joblib.load(os.path.join(PATH_PROCESSED_DATA, 'twitter_stanford.p.lzma'))"
   ]
  },
  {
   "cell_type": "code",
   "execution_count": 27,
   "metadata": {
    "ExecuteTime": {
     "end_time": "2017-03-17T23:59:12.709460",
     "start_time": "2017-03-17T23:59:12.568304"
    },
    "collapsed": true
   },
   "outputs": [],
   "source": [
    "part = df.sample(frac=0.0001)"
   ]
  },
  {
   "cell_type": "code",
   "execution_count": 31,
   "metadata": {
    "ExecuteTime": {
     "end_time": "2017-03-17T23:59:52.111129",
     "start_time": "2017-03-17T23:59:43.388931"
    },
    "collapsed": false
   },
   "outputs": [
    {
     "name": "stdout",
     "output_type": "stream",
     "text": [
      "RandomizedSearchCV took 8.69 seconds for 2 candidates parameter settings.\n",
      "Model with rank: 1\n",
      "Mean validation score: 0.544 (std: 0.006)\n",
      "Parameters: {'clf__C': 0.69999999999999996, 'clf__max_iter': 10000, 'clf__kernel': 'rbf', 'clf__tol': 0.001, 'svd__n_components': 1000, 'tfidf__ngram_range': (1, 4)}\n",
      "\n",
      "Model with rank: 1\n",
      "Mean validation score: 0.544 (std: 0.006)\n",
      "Parameters: {'clf__C': 0.79999999999999993, 'clf__max_iter': 10000, 'clf__kernel': 'rbf', 'clf__tol': 0.001, 'svd__n_components': 1000, 'tfidf__ngram_range': (1, 4)}\n",
      "\n"
     ]
    }
   ],
   "source": [
    "# Data\n",
    "y, X = part.TWEET_SENTIMENT.cat.codes, part.TWEET_CONTENT\n",
    "\n",
    "# Classifier\n",
    "text_clf = Pipeline([\n",
    "    ('tfidf', TfidfVectorizer()),\n",
    "    ('svd', TruncatedSVD()),\n",
    "    ('clf', SVC()),\n",
    "])\n",
    "\n",
    "# Cross validator\n",
    "skf = StratifiedKFold(n_splits=5)\n",
    "\n",
    "# Utility function to report best scores\n",
    "def report(results, n_top=3):\n",
    "    for i in range(1, n_top + 1):\n",
    "        candidates = np.flatnonzero(results['rank_test_score'] == i)\n",
    "        for candidate in candidates:\n",
    "            print(\"Model with rank: {0}\".format(i))\n",
    "            print(\"Mean validation score: {0:.3f} (std: {1:.3f})\".format(\n",
    "                  results['mean_test_score'][candidate],\n",
    "                  results['std_test_score'][candidate]))\n",
    "            print(\"Parameters: {0}\".format(results['params'][candidate]))\n",
    "            print(\"\")\n",
    "\n",
    "\n",
    "# specify parameters and distributions to sample from\n",
    "param_dist = {\n",
    "    'tfidf__ngram_range': [(1, 4)],\n",
    "    'svd__n_components': [1000],\n",
    "    'clf__C': np.arange(0.7, 1.05, 0.1),\n",
    "    'clf__kernel': ['rbf'],\n",
    "    'clf__tol': [1e-3],\n",
    "    'clf__max_iter': [10000],\n",
    "}\n",
    "\n",
    "# run randomized search\n",
    "n_iter_search = 2\n",
    "random_search = RandomizedSearchCV(\n",
    "    text_clf, param_distributions=param_dist, cv=skf, n_iter=n_iter_search)\n",
    "\n",
    "start = time()\n",
    "random_search.fit(X, y)\n",
    "print(\"RandomizedSearchCV took %.2f seconds for %d candidates\"\n",
    "      \" parameter settings.\" % ((time() - start), n_iter_search))\n",
    "report(random_search.cv_results_)"
   ]
  },
  {
   "cell_type": "code",
   "execution_count": null,
   "metadata": {
    "collapsed": true
   },
   "outputs": [],
   "source": []
  }
 ],
 "metadata": {
  "kernelspec": {
   "display_name": "Python [conda env:crypto]",
   "language": "python",
   "name": "conda-env-crypto-py"
  },
  "language_info": {
   "codemirror_mode": {
    "name": "ipython",
    "version": 3
   },
   "file_extension": ".py",
   "mimetype": "text/x-python",
   "name": "python",
   "nbconvert_exporter": "python",
   "pygments_lexer": "ipython3",
   "version": "3.5.2"
  },
  "latex_envs": {
   "bibliofile": "biblio.bib",
   "cite_by": "apalike",
   "current_citInitial": 1,
   "eqLabelWithNumbers": true,
   "eqNumInitial": 0
  }
 },
 "nbformat": 4,
 "nbformat_minor": 2
}
