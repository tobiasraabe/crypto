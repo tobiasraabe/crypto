{
 "cells": [
  {
   "cell_type": "code",
   "execution_count": 1,
   "metadata": {
    "ExecuteTime": {
     "end_time": "2017-03-15T13:57:14.779258",
     "start_time": "2017-03-15T13:57:14.289477"
    },
    "collapsed": true
   },
   "outputs": [],
   "source": [
    "import pandas as pd\n",
    "import datetime\n",
    "from dateutil import parser"
   ]
  },
  {
   "cell_type": "code",
   "execution_count": 2,
   "metadata": {
    "ExecuteTime": {
     "end_time": "2017-03-15T13:57:14.818582",
     "start_time": "2017-03-15T13:57:14.812578"
    },
    "collapsed": true
   },
   "outputs": [],
   "source": [
    "def dateparse(date):    \n",
    "    return parser.parse(date) - datetime.timedelta(hours=7)"
   ]
  },
  {
   "cell_type": "code",
   "execution_count": 6,
   "metadata": {
    "ExecuteTime": {
     "end_time": "2017-03-15T14:05:18.643731",
     "start_time": "2017-03-15T14:01:33.155490"
    },
    "collapsed": false
   },
   "outputs": [],
   "source": [
    "# Load dataset\n",
    "columns = [\n",
    "    'TWEET_SENTIMENT', 'TWEET_ID', 'TWEET_DATE', 'TWEET_QUERY', 'TWEET_USER', 'TWEET_CONTENT'\n",
    "]\n",
    "\n",
    "ts = pd.read_csv('../../bld/out/data_raw/stanford_twitter_sentiment_corpus.csv', encoding='latin1', names=columns, parse_dates=[2], date_parser=dateparse)"
   ]
  },
  {
   "cell_type": "code",
   "execution_count": 7,
   "metadata": {
    "ExecuteTime": {
     "end_time": "2017-03-15T14:05:18.782213",
     "start_time": "2017-03-15T14:05:18.645715"
    },
    "collapsed": true
   },
   "outputs": [],
   "source": [
    "ts.drop('TWEET_QUERY', axis=1, inplace=True)"
   ]
  },
  {
   "cell_type": "code",
   "execution_count": 9,
   "metadata": {
    "ExecuteTime": {
     "end_time": "2017-03-15T14:07:39.255851",
     "start_time": "2017-03-15T14:07:39.161784"
    },
    "collapsed": false
   },
   "outputs": [],
   "source": [
    "ts.TWEET_SENTIMENT.replace({0: 0, 4: 1}, inplace=True)\n",
    "ts.TWEET_SENTIMENT = ts.TWEET_SENTIMENT.astype('category')\n",
    "ts.TWEET_SENTIMENT.cat.rename_categories(['NEGATIVE', 'POSITIVE'], inplace=True)"
   ]
  },
  {
   "cell_type": "code",
   "execution_count": null,
   "metadata": {
    "collapsed": true
   },
   "outputs": [],
   "source": []
  }
 ],
 "metadata": {
  "anaconda-cloud": {},
  "kernelspec": {
   "display_name": "Python [conda env:crypto]",
   "language": "python",
   "name": "conda-env-crypto-py"
  },
  "language_info": {
   "codemirror_mode": {
    "name": "ipython",
    "version": 3
   },
   "file_extension": ".py",
   "mimetype": "text/x-python",
   "name": "python",
   "nbconvert_exporter": "python",
   "pygments_lexer": "ipython3",
   "version": "3.5.2"
  },
  "latex_envs": {
   "bibliofile": "biblio.bib",
   "cite_by": "apalike",
   "current_citInitial": 1,
   "eqLabelWithNumbers": true,
   "eqNumInitial": 0
  }
 },
 "nbformat": 4,
 "nbformat_minor": 1
}
